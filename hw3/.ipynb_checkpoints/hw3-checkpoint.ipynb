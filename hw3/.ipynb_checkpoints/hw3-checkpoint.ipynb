{
 "cells": [
  {
   "cell_type": "markdown",
   "id": "9a5bf62f",
   "metadata": {},
   "source": [
    "# Problem 1"
   ]
  },
  {
   "cell_type": "code",
   "execution_count": 99,
   "id": "9860cdd6",
   "metadata": {},
   "outputs": [
    {
     "name": "stdout",
     "output_type": "stream",
     "text": [
      "Please input smth: 6*9\n",
      "Please input smth again: 42\n",
      "['hello', 1, True, '6*9', 42]\n",
      "['hello', 1, True]\n"
     ]
    }
   ],
   "source": [
    "list1 = ['hello', 1, True]\n",
    "l1 = str(input('Please input smth: '))\n",
    "l2 = int(input('Please input smth again: '))\n",
    "new_list = []\n",
    "new_list.extend(list1)\n",
    "new_list.append(l1)\n",
    "new_list.append(l2)\n",
    "print(new_list)\n",
    "print(list1)"
   ]
  },
  {
   "cell_type": "markdown",
   "id": "0d2463bb",
   "metadata": {},
   "source": [
    "# Problem 2"
   ]
  },
  {
   "cell_type": "code",
   "execution_count": 82,
   "id": "18520c38",
   "metadata": {},
   "outputs": [
    {
     "name": "stdout",
     "output_type": "stream",
     "text": [
      "list2 before any changes:  [\"hitchhiker's\", 'guide', 'to', 'the', 'galaxy', 42]\n",
      "Input smth: 42\n",
      "list2 after the changes:  [\"hitchhiker's\", 'guide', 'to', 'the', 'galaxy']\n"
     ]
    }
   ],
   "source": [
    "list2 = ['hitchhiker\\'s', 'guide', 'to', 'the', 'galaxy', 42]\n",
    "print('list2 before any changes: ', list2)\n",
    "l1 = input('Input smth: ')\n",
    "try:\n",
    "    l1 = int(l1)\n",
    "    try:\n",
    "        list2.remove(l1)\n",
    "    except:\n",
    "        print('No such value in the list')    \n",
    "except:\n",
    "    try:\n",
    "        list2.remove(l1)\n",
    "    except:\n",
    "        print('No such value in the list')\n",
    "print('list2 after the changes: ', list2)"
   ]
  },
  {
   "cell_type": "markdown",
   "id": "96a7215a",
   "metadata": {},
   "source": [
    "# Problem 3"
   ]
  },
  {
   "cell_type": "code",
   "execution_count": 90,
   "id": "6c47ce87",
   "metadata": {},
   "outputs": [
    {
     "name": "stdout",
     "output_type": "stream",
     "text": [
      "list3 before any changes:  ['I', 'am', 'nana', 42, True, '5th index', 'bla', 'Zaphod', 'mice']\n",
      "list3 before any changes:  ['am', 'nana', 42, 'bla', 'Zaphod', 'mice']\n"
     ]
    }
   ],
   "source": [
    "list3 = ['I', 'am', 'nana', 42, True, '5th index', 'bla','Zaphod','mice']\n",
    "print('list3 before any changes: ', list3)\n",
    "indices = {0,4,5}\n",
    "list3 = [v for i, v in enumerate(list3) if i not in indices]\n",
    "print('list3 before any changes: ', list3)\n",
    "\n",
    "# I did not use del as if i used it once \n",
    "# then the next time the list would be already altered"
   ]
  },
  {
   "cell_type": "markdown",
   "id": "9e6eb050",
   "metadata": {},
   "source": [
    "# Problem 4"
   ]
  },
  {
   "cell_type": "code",
   "execution_count": 91,
   "id": "876a3fda",
   "metadata": {},
   "outputs": [
    {
     "name": "stdout",
     "output_type": "stream",
     "text": [
      "list3 before any changes:  ['I', 'am', 'nana', 42, True, '5th index', 'bla']\n",
      "list3 before any changes:  ['am', 'nana', 42, 'bla']\n"
     ]
    }
   ],
   "source": [
    "list4 = ['I', 'am', 'nana', 42, True, '5th index', 'bla']\n",
    "print('list3 before any changes: ', list4)\n",
    "list4_1 = list4[1:4] + list4[6:]\n",
    "print('list3 before any changes: ', list4_1)"
   ]
  },
  {
   "cell_type": "markdown",
   "id": "1b346db8",
   "metadata": {},
   "source": [
    "# Problem 5"
   ]
  },
  {
   "cell_type": "code",
   "execution_count": 92,
   "id": "32cd1961",
   "metadata": {},
   "outputs": [
    {
     "name": "stdout",
     "output_type": "stream",
     "text": [
      "values of a at indices 3 and 5: 7 -2\n"
     ]
    }
   ],
   "source": [
    "a = [1,4,5,7,8,-2,0,-1]\n",
    "print('values of a at indices 3 and 5:', a[3], a[5])"
   ]
  },
  {
   "cell_type": "code",
   "execution_count": 93,
   "id": "f6517556",
   "metadata": {},
   "outputs": [],
   "source": [
    "a_sorted = sorted(a, reverse=True)"
   ]
  },
  {
   "cell_type": "code",
   "execution_count": 94,
   "id": "de32273c",
   "metadata": {},
   "outputs": [
    {
     "name": "stdout",
     "output_type": "stream",
     "text": [
      "sublist #1: [7, 5, 4]\n",
      "sublist #2: [5, 4, 1, 0, -1]\n"
     ]
    }
   ],
   "source": [
    "a_subl_1 = a_sorted[1:4]\n",
    "a_subl_2 = a_sorted[2:7]\n",
    "print('sublist #1:', a_subl_1)\n",
    "print('sublist #2:', a_subl_2)"
   ]
  },
  {
   "cell_type": "code",
   "execution_count": 95,
   "id": "2e49f8b2",
   "metadata": {},
   "outputs": [],
   "source": [
    "del a_sorted[2:4]"
   ]
  },
  {
   "cell_type": "code",
   "execution_count": 96,
   "id": "096b5176",
   "metadata": {},
   "outputs": [
    {
     "name": "stdout",
     "output_type": "stream",
     "text": [
      "[8, 7, 1, 0, -1, -2]\n"
     ]
    }
   ],
   "source": [
    "print(a_sorted)"
   ]
  },
  {
   "cell_type": "code",
   "execution_count": 97,
   "id": "57162b3c",
   "metadata": {},
   "outputs": [],
   "source": [
    "b = ['grapes', 'Potatoes', 'tomatoes',\n",
    "'Orange', 'Lemon', 'Broccoli', 'Carrot', 'Sausages']"
   ]
  },
  {
   "cell_type": "code",
   "execution_count": 98,
   "id": "b46d318b",
   "metadata": {},
   "outputs": [],
   "source": [
    "b_sorted = sorted(b)"
   ]
  },
  {
   "cell_type": "code",
   "execution_count": 62,
   "id": "6603bedc",
   "metadata": {},
   "outputs": [],
   "source": [
    "c = a[1:4] + b[4:7]"
   ]
  }
 ],
 "metadata": {
  "kernelspec": {
   "display_name": "Python 3 (ipykernel)",
   "language": "python",
   "name": "python3"
  },
  "language_info": {
   "codemirror_mode": {
    "name": "ipython",
    "version": 3
   },
   "file_extension": ".py",
   "mimetype": "text/x-python",
   "name": "python",
   "nbconvert_exporter": "python",
   "pygments_lexer": "ipython3",
   "version": "3.9.5"
  }
 },
 "nbformat": 4,
 "nbformat_minor": 5
}
