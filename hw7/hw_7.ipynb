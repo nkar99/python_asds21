{
 "cells": [
  {
   "cell_type": "code",
   "execution_count": 37,
   "id": "18f52a2d",
   "metadata": {},
   "outputs": [],
   "source": [
    "import time\n",
    "\n",
    "class Person:\n",
    "    def __init__(self, last_name, age, gender, student, password):\n",
    "        self.last_name = last_name\n",
    "        self.age = age\n",
    "        self.gender = gender\n",
    "        self.student = student\n",
    "        self.__password = password\n",
    "    \n",
    "    def time_greeting(func): \n",
    "        def wrapper(*args, **kwargs):  \n",
    "            start = time.time()\n",
    "            func(*args,**kwargs)\n",
    "            end = time.time()\n",
    "            print(func.__name__ +\" took \" + str((end-start)*1000) + \"mil sec\")\n",
    "        return wrapper\n",
    "    \n",
    "    @time_greeting\n",
    "    def Greeting(self, second_person):\n",
    "        print('Welcome dear ' + second_person.last_name + '.')\n",
    "    \n",
    "    def Goodbye(self):\n",
    "        print('Bye Everyone!')\n",
    "    \n",
    "    def Favorite_num(self, num1):\n",
    "        return r'My favorite number is ' + str(num1)\n",
    "        \n",
    "    def Read_file(self, filename):\n",
    "        open(filename + '.txt')\n",
    "        \n",
    "    def set_value(self, new_pass):\n",
    "        self.__password = new_pass\n",
    "        \n",
    "    def get_value(self):\n",
    "        return self.__password        "
   ]
  }
 ],
 "metadata": {
  "kernelspec": {
   "display_name": "Python 3 (ipykernel)",
   "language": "python",
   "name": "python3"
  },
  "language_info": {
   "codemirror_mode": {
    "name": "ipython",
    "version": 3
   },
   "file_extension": ".py",
   "mimetype": "text/x-python",
   "name": "python",
   "nbconvert_exporter": "python",
   "pygments_lexer": "ipython3",
   "version": "3.9.5"
  }
 },
 "nbformat": 4,
 "nbformat_minor": 5
}
