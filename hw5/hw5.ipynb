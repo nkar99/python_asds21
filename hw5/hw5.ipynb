{
 "cells": [
  {
   "cell_type": "markdown",
   "id": "1be4aaaa",
   "metadata": {},
   "source": [
    "# Problem 1"
   ]
  },
  {
   "cell_type": "code",
   "execution_count": 2,
   "id": "b228d5cf",
   "metadata": {},
   "outputs": [],
   "source": [
    "d = {'name': 'Armen','age': 15, 'grades':[10,8,8,4,6,7]}"
   ]
  },
  {
   "cell_type": "code",
   "execution_count": 5,
   "id": "6a73c195",
   "metadata": {},
   "outputs": [
    {
     "name": "stdout",
     "output_type": "stream",
     "text": [
      "Good job\n"
     ]
    }
   ],
   "source": [
    "avg = sum(d['grades'])/len(d['grades'])\n",
    "if avg > 7:\n",
    "    print('Good job')\n",
    "else:\n",
    "    print('You need to work more')"
   ]
  },
  {
   "cell_type": "markdown",
   "id": "a35c4ca6",
   "metadata": {},
   "source": [
    "# Problem 2"
   ]
  },
  {
   "cell_type": "code",
   "execution_count": 7,
   "id": "4ef7ce89",
   "metadata": {},
   "outputs": [],
   "source": [
    "list1 = [x**2 for x in range(1,51)]"
   ]
  },
  {
   "cell_type": "markdown",
   "id": "df2e0fa8",
   "metadata": {},
   "source": [
    "# Problem 3"
   ]
  },
  {
   "cell_type": "code",
   "execution_count": 8,
   "id": "009a6a09",
   "metadata": {},
   "outputs": [],
   "source": [
    "list2 = ['a','abc','xyz','s','aba','1221']"
   ]
  },
  {
   "cell_type": "code",
   "execution_count": 13,
   "id": "1a727c0b",
   "metadata": {},
   "outputs": [
    {
     "name": "stdout",
     "output_type": "stream",
     "text": [
      "2\n"
     ]
    }
   ],
   "source": [
    "count = 0\n",
    "l = []\n",
    "for elem in list2:\n",
    "    if len(elem) >= 2 and elem[0] == elem[-1]:\n",
    "        count += 1\n",
    "        l.append(elem)\n",
    "print(count)"
   ]
  },
  {
   "cell_type": "markdown",
   "id": "bae55e0b",
   "metadata": {},
   "source": [
    "# Problem 4"
   ]
  },
  {
   "cell_type": "code",
   "execution_count": 14,
   "id": "c91bad78",
   "metadata": {},
   "outputs": [],
   "source": [
    "list1 = [1,3,5,7,9,11,13,15]\n",
    "list2 = [4,6,14,11,8,16]"
   ]
  },
  {
   "cell_type": "code",
   "execution_count": 17,
   "id": "482b685b",
   "metadata": {},
   "outputs": [],
   "source": [
    "for l1 in list1:\n",
    "    if l1 in list2:\n",
    "        break"
   ]
  },
  {
   "cell_type": "markdown",
   "id": "8645606a",
   "metadata": {},
   "source": [
    "# Problem 5"
   ]
  },
  {
   "cell_type": "code",
   "execution_count": 21,
   "id": "6c972bf9",
   "metadata": {},
   "outputs": [
    {
     "name": "stdout",
     "output_type": "stream",
     "text": [
      "Please inpute a name of a desert: cake\n",
      "Please choose another desert: milk\n",
      "Please choose another desert: chocolate\n",
      "Your desert will arrive in 10 minutes\n"
     ]
    }
   ],
   "source": [
    "menu = ['ice cream','chocolate','apple crisp','cookies']\n",
    "desert = str(input('Please inpute a name of a desert: '))\n",
    "while desert not in menu:\n",
    "    desert = str(input('Please choose another desert: '))\n",
    "else:\n",
    "    print('Your desert will arrive in 10 minutes')"
   ]
  }
 ],
 "metadata": {
  "kernelspec": {
   "display_name": "Python 3 (ipykernel)",
   "language": "python",
   "name": "python3"
  },
  "language_info": {
   "codemirror_mode": {
    "name": "ipython",
    "version": 3
   },
   "file_extension": ".py",
   "mimetype": "text/x-python",
   "name": "python",
   "nbconvert_exporter": "python",
   "pygments_lexer": "ipython3",
   "version": "3.9.5"
  }
 },
 "nbformat": 4,
 "nbformat_minor": 5
}
