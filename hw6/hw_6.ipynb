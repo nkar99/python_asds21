{
 "cells": [
  {
   "cell_type": "markdown",
   "id": "b0448c3a",
   "metadata": {},
   "source": [
    "# Problem 1"
   ]
  },
  {
   "cell_type": "code",
   "execution_count": 21,
   "id": "e2b6d6db",
   "metadata": {},
   "outputs": [],
   "source": [
    "def max(*args):\n",
    "    args = list(args)\n",
    "    if len(args) != 0:\n",
    "        m = sorted(args)[-1]\n",
    "    else:\n",
    "        return 'no numbers given'\n",
    "    return m"
   ]
  },
  {
   "cell_type": "code",
   "execution_count": 23,
   "id": "dc4c53d2",
   "metadata": {},
   "outputs": [
    {
     "data": {
      "text/plain": [
       "'no numbers given'"
      ]
     },
     "execution_count": 23,
     "metadata": {},
     "output_type": "execute_result"
    }
   ],
   "source": [
    "max()"
   ]
  },
  {
   "cell_type": "markdown",
   "id": "f59cdc3c",
   "metadata": {},
   "source": [
    "# Problem 2"
   ]
  },
  {
   "cell_type": "code",
   "execution_count": 7,
   "id": "89deb2dd",
   "metadata": {},
   "outputs": [],
   "source": [
    "def add_its_me(f):\n",
    "    def wrapped():\n",
    "        return f() + \", it's me!\"\n",
    "    return wrapped\n",
    "\n",
    "def makeunderline(f):\n",
    "    def wrapped():\n",
    "        return '<u>' + f() + '</u>'\n",
    "    return wrapped\n",
    "\n",
    "\n",
    "@makeunderline\n",
    "@add_its_me\n",
    "def hi():\n",
    "    return 'Hi'"
   ]
  },
  {
   "cell_type": "code",
   "execution_count": 8,
   "id": "c3db4d16",
   "metadata": {},
   "outputs": [
    {
     "name": "stdout",
     "output_type": "stream",
     "text": [
      "<u>Hi, it's me!</u>\n"
     ]
    }
   ],
   "source": [
    "print(hi())"
   ]
  },
  {
   "cell_type": "markdown",
   "id": "7c77b071",
   "metadata": {},
   "source": [
    "# Problem 3"
   ]
  },
  {
   "cell_type": "code",
   "execution_count": 97,
   "id": "5df88a78",
   "metadata": {},
   "outputs": [],
   "source": [
    "def my_range(n):\n",
    "    for num in range(n + 20):\n",
    "#         print('num',num)\n",
    "#         print('n', n)\n",
    "        if num <= n:\n",
    "            yield num\n",
    "        else:\n",
    "            return 'there are no values left'"
   ]
  },
  {
   "cell_type": "code",
   "execution_count": 98,
   "id": "28b5a8c2",
   "metadata": {},
   "outputs": [
    {
     "name": "stdout",
     "output_type": "stream",
     "text": [
      "Please input an integer: 4\n"
     ]
    }
   ],
   "source": [
    "number = my_range(int(input('Please input an integer: ')))"
   ]
  },
  {
   "cell_type": "code",
   "execution_count": 104,
   "id": "264a7e84",
   "metadata": {},
   "outputs": [
    {
     "ename": "StopIteration",
     "evalue": "there are no values left",
     "output_type": "error",
     "traceback": [
      "\u001b[0;31m---------------------------------------------------------------------------\u001b[0m",
      "\u001b[0;31mStopIteration\u001b[0m                             Traceback (most recent call last)",
      "\u001b[0;32m/tmp/ipykernel_135864/730398248.py\u001b[0m in \u001b[0;36m<module>\u001b[0;34m\u001b[0m\n\u001b[0;32m----> 1\u001b[0;31m \u001b[0mprint\u001b[0m\u001b[0;34m(\u001b[0m\u001b[0mnext\u001b[0m\u001b[0;34m(\u001b[0m\u001b[0mnumber\u001b[0m\u001b[0;34m)\u001b[0m\u001b[0;34m)\u001b[0m\u001b[0;34m\u001b[0m\u001b[0;34m\u001b[0m\u001b[0m\n\u001b[0m",
      "\u001b[0;31mStopIteration\u001b[0m: there are no values left"
     ]
    }
   ],
   "source": [
    "print(next(number))"
   ]
  },
  {
   "cell_type": "code",
   "execution_count": null,
   "id": "ee357d13",
   "metadata": {},
   "outputs": [],
   "source": []
  },
  {
   "cell_type": "code",
   "execution_count": null,
   "id": "f5fbc45e",
   "metadata": {},
   "outputs": [],
   "source": []
  }
 ],
 "metadata": {
  "kernelspec": {
   "display_name": "Python 3 (ipykernel)",
   "language": "python",
   "name": "python3"
  },
  "language_info": {
   "codemirror_mode": {
    "name": "ipython",
    "version": 3
   },
   "file_extension": ".py",
   "mimetype": "text/x-python",
   "name": "python",
   "nbconvert_exporter": "python",
   "pygments_lexer": "ipython3",
   "version": "3.9.5"
  }
 },
 "nbformat": 4,
 "nbformat_minor": 5
}
