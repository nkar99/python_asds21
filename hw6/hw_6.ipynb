{
 "cells": [
  {
   "cell_type": "markdown",
   "id": "4fda3519",
   "metadata": {},
   "source": [
    "# Problem 1"
   ]
  },
  {
   "cell_type": "code",
   "execution_count": 21,
   "id": "c8b230d0",
   "metadata": {},
   "outputs": [],
   "source": [
    "def max(*args):\n",
    "    args = list(args)\n",
    "    if len(args) != 0:\n",
    "        m = sorted(args)[-1]\n",
    "    else:\n",
    "        return 'no numbers given'\n",
    "    return m"
   ]
  },
  {
   "cell_type": "code",
   "execution_count": 23,
   "id": "252222d0",
   "metadata": {},
   "outputs": [
    {
     "data": {
      "text/plain": [
       "'no numbers given'"
      ]
     },
     "execution_count": 23,
     "metadata": {},
     "output_type": "execute_result"
    }
   ],
   "source": [
    "max()"
   ]
  },
  {
   "cell_type": "markdown",
   "id": "49f3d4ae",
   "metadata": {},
   "source": [
    "# Problem 2"
   ]
  },
  {
   "cell_type": "code",
   "execution_count": 7,
   "id": "35cafe61",
   "metadata": {},
   "outputs": [],
   "source": [
    "def add_its_me(f):\n",
    "    def wrapped():\n",
    "        return f() + \", it's me!\"\n",
    "    return wrapped\n",
    "\n",
    "def makeunderline(f):\n",
    "    def wrapped():\n",
    "        return '<u>' + f() + '</u>'\n",
    "    return wrapped\n",
    "\n",
    "\n",
    "@makeunderline\n",
    "@add_its_me\n",
    "def hi():\n",
    "    return 'Hi'"
   ]
  },
  {
   "cell_type": "code",
   "execution_count": 8,
   "id": "99d91b6c",
   "metadata": {},
   "outputs": [
    {
     "name": "stdout",
     "output_type": "stream",
     "text": [
      "<u>Hi, it's me!</u>\n"
     ]
    }
   ],
   "source": [
    "print(hi())"
   ]
  },
  {
   "cell_type": "markdown",
   "id": "e67d8ca5",
   "metadata": {},
   "source": [
    "# Problem 3"
   ]
  },
  {
   "cell_type": "code",
   "execution_count": 105,
   "id": "599f98b0",
   "metadata": {},
   "outputs": [],
   "source": [
    "def my_range(n):\n",
    "    for num in range(n + 20):\n",
    "        if num <= n:\n",
    "            yield num\n",
    "        else:\n",
    "            return 'there are no values left'"
   ]
  },
  {
   "cell_type": "code",
   "execution_count": 106,
   "id": "70a6c6d8",
   "metadata": {},
   "outputs": [
    {
     "name": "stdout",
     "output_type": "stream",
     "text": [
      "Please input an integer: 5\n"
     ]
    }
   ],
   "source": [
    "number = my_range(int(input('Please input an integer: ')))"
   ]
  },
  {
   "cell_type": "code",
   "execution_count": 113,
   "id": "c904ac3e",
   "metadata": {},
   "outputs": [
    {
     "ename": "StopIteration",
     "evalue": "there are no values left",
     "output_type": "error",
     "traceback": [
      "\u001b[0;31m---------------------------------------------------------------------------\u001b[0m",
      "\u001b[0;31mStopIteration\u001b[0m                             Traceback (most recent call last)",
      "\u001b[0;32m/tmp/ipykernel_135864/730398248.py\u001b[0m in \u001b[0;36m<module>\u001b[0;34m\u001b[0m\n\u001b[0;32m----> 1\u001b[0;31m \u001b[0mprint\u001b[0m\u001b[0;34m(\u001b[0m\u001b[0mnext\u001b[0m\u001b[0;34m(\u001b[0m\u001b[0mnumber\u001b[0m\u001b[0;34m)\u001b[0m\u001b[0;34m)\u001b[0m\u001b[0;34m\u001b[0m\u001b[0;34m\u001b[0m\u001b[0m\n\u001b[0m",
      "\u001b[0;31mStopIteration\u001b[0m: there are no values left"
     ]
    }
   ],
   "source": [
    "print(next(number))"
   ]
  },
  {
   "cell_type": "code",
   "execution_count": null,
   "id": "11b72aa4",
   "metadata": {},
   "outputs": [],
   "source": []
  },
  {
   "cell_type": "code",
   "execution_count": null,
   "id": "f9740ead",
   "metadata": {},
   "outputs": [],
   "source": []
  }
 ],
 "metadata": {
  "kernelspec": {
   "display_name": "Python 3 (ipykernel)",
   "language": "python",
   "name": "python3"
  },
  "language_info": {
   "codemirror_mode": {
    "name": "ipython",
    "version": 3
   },
   "file_extension": ".py",
   "mimetype": "text/x-python",
   "name": "python",
   "nbconvert_exporter": "python",
   "pygments_lexer": "ipython3",
   "version": "3.9.5"
  }
 },
 "nbformat": 4,
 "nbformat_minor": 5
}
