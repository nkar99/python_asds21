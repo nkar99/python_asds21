{
 "cells": [
  {
   "cell_type": "markdown",
   "id": "bc32c478",
   "metadata": {},
   "source": [
    "# Problem 1"
   ]
  },
  {
   "cell_type": "code",
   "execution_count": 31,
   "id": "ddb2f4e6",
   "metadata": {},
   "outputs": [],
   "source": [
    "class Animal:\n",
    "    def __init__(self, name):\n",
    "        self.name = name      \n",
    "        \n",
    "    def move():\n",
    "        print('I can move')"
   ]
  },
  {
   "cell_type": "code",
   "execution_count": 34,
   "id": "a3dcbc7e",
   "metadata": {},
   "outputs": [],
   "source": [
    "class Dog(Animal):\n",
    "    def __init__(self):\n",
    "        Animal.__init__(self,'dog')\n",
    "    \n",
    "    def move():\n",
    "        print('I can run really fast')"
   ]
  },
  {
   "cell_type": "code",
   "execution_count": 33,
   "id": "96b46301",
   "metadata": {},
   "outputs": [
    {
     "name": "stdout",
     "output_type": "stream",
     "text": [
      "I can move\n"
     ]
    }
   ],
   "source": [
    "d = Dog.move()\n",
    "d"
   ]
  },
  {
   "cell_type": "code",
   "execution_count": 35,
   "id": "776dbdfe",
   "metadata": {},
   "outputs": [
    {
     "name": "stdout",
     "output_type": "stream",
     "text": [
      "I can run really fast\n"
     ]
    }
   ],
   "source": [
    "d1 = Dog.move()\n",
    "d1"
   ]
  },
  {
   "cell_type": "markdown",
   "id": "c78a6ba3",
   "metadata": {},
   "source": [
    "# Problem 2"
   ]
  },
  {
   "cell_type": "code",
   "execution_count": 57,
   "id": "1d62c432",
   "metadata": {},
   "outputs": [],
   "source": [
    "class Animal:\n",
    "    def __init__(self,name,legs):\n",
    "        self.name = name\n",
    "        self.legs = legs\n",
    "    \n",
    "    def getName(self):\n",
    "        print('My name is ' + str(self.name))\n",
    "    \n",
    "    def getLegs(self):\n",
    "        print('I have ' + str(self.legs) + ' legs')"
   ]
  },
  {
   "cell_type": "code",
   "execution_count": 67,
   "id": "92e337fc",
   "metadata": {},
   "outputs": [],
   "source": [
    "class Exnik(Animal):\n",
    "    def __init__(self):\n",
    "        Animal.__init__(self,'Exnik',4)"
   ]
  },
  {
   "cell_type": "code",
   "execution_count": 68,
   "id": "93e7fada",
   "metadata": {},
   "outputs": [
    {
     "name": "stdout",
     "output_type": "stream",
     "text": [
      "I have 4 legs\n",
      "My name is Exnik\n"
     ]
    }
   ],
   "source": [
    "e = Exnik()\n",
    "e.getLegs()\n",
    "e.getName()"
   ]
  }
 ],
 "metadata": {
  "kernelspec": {
   "display_name": "Python 3 (ipykernel)",
   "language": "python",
   "name": "python3"
  },
  "language_info": {
   "codemirror_mode": {
    "name": "ipython",
    "version": 3
   },
   "file_extension": ".py",
   "mimetype": "text/x-python",
   "name": "python",
   "nbconvert_exporter": "python",
   "pygments_lexer": "ipython3",
   "version": "3.9.5"
  }
 },
 "nbformat": 4,
 "nbformat_minor": 5
}
