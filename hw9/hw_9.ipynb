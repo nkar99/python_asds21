{
 "cells": [
  {
   "cell_type": "markdown",
   "id": "c5e8e09c",
   "metadata": {},
   "source": [
    "# Problem 1"
   ]
  },
  {
   "cell_type": "code",
   "execution_count": 5,
   "id": "64f37c03",
   "metadata": {},
   "outputs": [],
   "source": [
    "def div(x,y):\n",
    "    assert y != 0, \"Can't divide\"\n",
    "    return x/y"
   ]
  },
  {
   "cell_type": "code",
   "execution_count": 8,
   "id": "9c71da53",
   "metadata": {},
   "outputs": [
    {
     "ename": "AssertionError",
     "evalue": "Can't divide",
     "output_type": "error",
     "traceback": [
      "\u001b[0;31m---------------------------------------------------------------------------\u001b[0m",
      "\u001b[0;31mAssertionError\u001b[0m                            Traceback (most recent call last)",
      "\u001b[0;32m/tmp/ipykernel_154929/2865619855.py\u001b[0m in \u001b[0;36m<module>\u001b[0;34m\u001b[0m\n\u001b[0;32m----> 1\u001b[0;31m \u001b[0mdiv\u001b[0m\u001b[0;34m(\u001b[0m\u001b[0;36m10\u001b[0m\u001b[0;34m,\u001b[0m\u001b[0;36m0\u001b[0m\u001b[0;34m)\u001b[0m\u001b[0;34m\u001b[0m\u001b[0;34m\u001b[0m\u001b[0m\n\u001b[0m",
      "\u001b[0;32m/tmp/ipykernel_154929/1401469529.py\u001b[0m in \u001b[0;36mdiv\u001b[0;34m(x, y)\u001b[0m\n\u001b[1;32m      1\u001b[0m \u001b[0;32mdef\u001b[0m \u001b[0mdiv\u001b[0m\u001b[0;34m(\u001b[0m\u001b[0mx\u001b[0m\u001b[0;34m,\u001b[0m\u001b[0my\u001b[0m\u001b[0;34m)\u001b[0m\u001b[0;34m:\u001b[0m\u001b[0;34m\u001b[0m\u001b[0;34m\u001b[0m\u001b[0m\n\u001b[0;32m----> 2\u001b[0;31m     \u001b[0;32massert\u001b[0m \u001b[0my\u001b[0m \u001b[0;34m!=\u001b[0m \u001b[0;36m0\u001b[0m\u001b[0;34m,\u001b[0m \u001b[0;34m\"Can't divide\"\u001b[0m\u001b[0;34m\u001b[0m\u001b[0;34m\u001b[0m\u001b[0m\n\u001b[0m\u001b[1;32m      3\u001b[0m     \u001b[0;32mreturn\u001b[0m \u001b[0mx\u001b[0m\u001b[0;34m/\u001b[0m\u001b[0my\u001b[0m\u001b[0;34m\u001b[0m\u001b[0;34m\u001b[0m\u001b[0m\n",
      "\u001b[0;31mAssertionError\u001b[0m: Can't divide"
     ]
    }
   ],
   "source": [
    "div(10,0)"
   ]
  },
  {
   "cell_type": "markdown",
   "id": "57f41220",
   "metadata": {},
   "source": [
    "# Problem 2"
   ]
  },
  {
   "cell_type": "code",
   "execution_count": 19,
   "id": "5539b9fc",
   "metadata": {},
   "outputs": [
    {
     "name": "stdout",
     "output_type": "stream",
     "text": [
      "The entry is: a\n",
      "Oops! unsupported operand type(s) for /: 'int' and 'str'\n",
      "The entry is: 0\n",
      "Oops! division by zero\n",
      "The entry is: 2\n",
      "0.5\n"
     ]
    }
   ],
   "source": [
    "l = ['a',0,2]\n",
    "for elem in l:\n",
    "    try:\n",
    "        print(f'The entry is: {elem}')\n",
    "        print(1/elem)\n",
    "    except ZeroDivisionError as z:\n",
    "        print('Oops! ' + str(z)) #Can't divide by zero\")\n",
    "    except Exception as e:\n",
    "        print('Oops! ' + str(e))"
   ]
  },
  {
   "cell_type": "markdown",
   "id": "d0afb91e",
   "metadata": {},
   "source": [
    "# Problem 3"
   ]
  },
  {
   "cell_type": "code",
   "execution_count": 61,
   "id": "41e2d81b",
   "metadata": {},
   "outputs": [],
   "source": [
    "class Person:\n",
    "    def __init__(self, name, last_name, age, gender, student, password):\n",
    "        self.name = name\n",
    "        self.last_name = last_name\n",
    "        self.age = age\n",
    "        self.gender = gender\n",
    "        self.student = student\n",
    "        self.__password = password\n",
    "    \n",
    "    def Greeting(self, second_person):\n",
    "        try:\n",
    "            print('Welcome dear ' + second_person.name)\n",
    "        except Exception:\n",
    "            print('Make sure to pass in an instance of a Person class')\n",
    "        \n",
    "    def Goodbye(self):\n",
    "        print('Bye everyone!')\n",
    "        \n",
    "    def Favorite_num(self, num1):\n",
    "        return r'My favorite number is ' + str(num1)\n",
    "        \n",
    "    def Read_file(self, filename):\n",
    "        try:\n",
    "            open(filename + '.txt')\n",
    "        except FileNotFoundError:\n",
    "            print('This file does not exist or is in another directory')\n",
    "        \n",
    "    def set_value(self, new_pass):\n",
    "        self.__password = new_pass\n",
    "        \n",
    "    def get_value(self):\n",
    "        return self.__password        "
   ]
  },
  {
   "cell_type": "code",
   "execution_count": 62,
   "id": "8f8762b4",
   "metadata": {},
   "outputs": [],
   "source": [
    "p1 = Person('n','k',12,'m',True,'bla1')\n",
    "p2 = Person('a','k',5,'f',False,'bla2')"
   ]
  },
  {
   "cell_type": "code",
   "execution_count": 65,
   "id": "8aa51b89",
   "metadata": {},
   "outputs": [
    {
     "name": "stdout",
     "output_type": "stream",
     "text": [
      "Welcome dear a\n"
     ]
    }
   ],
   "source": [
    "p1.Greeting(p2)"
   ]
  },
  {
   "cell_type": "code",
   "execution_count": 64,
   "id": "f74de110",
   "metadata": {},
   "outputs": [
    {
     "name": "stdout",
     "output_type": "stream",
     "text": [
      "Make sure to pass in an instance of a Person class\n"
     ]
    }
   ],
   "source": [
    "p1.Greeting(2)"
   ]
  },
  {
   "cell_type": "code",
   "execution_count": 37,
   "id": "d3462d52",
   "metadata": {},
   "outputs": [
    {
     "name": "stdout",
     "output_type": "stream",
     "text": [
      "input your favourite number: 42\n"
     ]
    },
    {
     "data": {
      "text/plain": [
       "'My favorite number is 42'"
      ]
     },
     "execution_count": 37,
     "metadata": {},
     "output_type": "execute_result"
    }
   ],
   "source": [
    "p1.Favorite_num(input('input your favourite number: '))"
   ]
  },
  {
   "cell_type": "code",
   "execution_count": 29,
   "id": "415b5afe",
   "metadata": {},
   "outputs": [
    {
     "name": "stdout",
     "output_type": "stream",
     "text": [
      "Bye everryone!\n"
     ]
    }
   ],
   "source": [
    "p1.Goodbye()"
   ]
  },
  {
   "cell_type": "code",
   "execution_count": 54,
   "id": "27838a95",
   "metadata": {},
   "outputs": [
    {
     "name": "stdout",
     "output_type": "stream",
     "text": [
      "This file does not exist or is in another directory\n"
     ]
    }
   ],
   "source": [
    "p1.Read_file('bla')"
   ]
  },
  {
   "cell_type": "code",
   "execution_count": 31,
   "id": "408b082e",
   "metadata": {},
   "outputs": [
    {
     "data": {
      "text/plain": [
       "'bla1'"
      ]
     },
     "execution_count": 31,
     "metadata": {},
     "output_type": "execute_result"
    }
   ],
   "source": [
    "p1.get_value()"
   ]
  },
  {
   "cell_type": "code",
   "execution_count": 32,
   "id": "66dad548",
   "metadata": {},
   "outputs": [],
   "source": [
    "p1.set_value('blabla')"
   ]
  },
  {
   "cell_type": "code",
   "execution_count": 33,
   "id": "197a48f6",
   "metadata": {},
   "outputs": [
    {
     "data": {
      "text/plain": [
       "'blabla'"
      ]
     },
     "execution_count": 33,
     "metadata": {},
     "output_type": "execute_result"
    }
   ],
   "source": [
    "p1.get_value()"
   ]
  }
 ],
 "metadata": {
  "kernelspec": {
   "display_name": "Python 3 (ipykernel)",
   "language": "python",
   "name": "python3"
  },
  "language_info": {
   "codemirror_mode": {
    "name": "ipython",
    "version": 3
   },
   "file_extension": ".py",
   "mimetype": "text/x-python",
   "name": "python",
   "nbconvert_exporter": "python",
   "pygments_lexer": "ipython3",
   "version": "3.9.5"
  }
 },
 "nbformat": 4,
 "nbformat_minor": 5
}
