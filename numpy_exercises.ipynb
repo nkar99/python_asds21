{
 "cells": [
  {
   "cell_type": "markdown",
   "id": "af5ddbce",
   "metadata": {},
   "source": [
    "#### 1. Import the numpy package under the name `np`"
   ]
  },
  {
   "cell_type": "code",
   "execution_count": 2,
   "id": "a2c50fcc",
   "metadata": {},
   "outputs": [],
   "source": [
    "import numpy as np"
   ]
  },
  {
   "cell_type": "markdown",
   "id": "bdf45e71",
   "metadata": {},
   "source": [
    "#### 2. Create a numpy array of size 10 filled with zeros. "
   ]
  },
  {
   "cell_type": "code",
   "execution_count": 3,
   "id": "2571dd23",
   "metadata": {},
   "outputs": [
    {
     "data": {
      "text/plain": [
       "array([0., 0., 0., 0., 0., 0., 0., 0., 0., 0.])"
      ]
     },
     "execution_count": 3,
     "metadata": {},
     "output_type": "execute_result"
    }
   ],
   "source": [
    "np.zeros(10)"
   ]
  },
  {
   "cell_type": "markdown",
   "id": "8a5d2b16",
   "metadata": {},
   "source": [
    "#### 3.  How to get the documentation of the numpy add function? "
   ]
  },
  {
   "cell_type": "code",
   "execution_count": 4,
   "id": "b3efa77e",
   "metadata": {},
   "outputs": [
    {
     "name": "stdout",
     "output_type": "stream",
     "text": [
      "Help on ufunc:\n",
      "\n",
      "add = <ufunc 'add'>\n",
      "    add(x1, x2, /, out=None, *, where=True, casting='same_kind', order='K', dtype=None, subok=True[, signature, extobj])\n",
      "    \n",
      "    Add arguments element-wise.\n",
      "    \n",
      "    Parameters\n",
      "    ----------\n",
      "    x1, x2 : array_like\n",
      "        The arrays to be added.\n",
      "        If ``x1.shape != x2.shape``, they must be broadcastable to a common\n",
      "        shape (which becomes the shape of the output).\n",
      "    out : ndarray, None, or tuple of ndarray and None, optional\n",
      "        A location into which the result is stored. If provided, it must have\n",
      "        a shape that the inputs broadcast to. If not provided or None,\n",
      "        a freshly-allocated array is returned. A tuple (possible only as a\n",
      "        keyword argument) must have length equal to the number of outputs.\n",
      "    where : array_like, optional\n",
      "        This condition is broadcast over the input. At locations where the\n",
      "        condition is True, the `out` array will be set to the ufunc result.\n",
      "        Elsewhere, the `out` array will retain its original value.\n",
      "        Note that if an uninitialized `out` array is created via the default\n",
      "        ``out=None``, locations within it where the condition is False will\n",
      "        remain uninitialized.\n",
      "    **kwargs\n",
      "        For other keyword-only arguments, see the\n",
      "        :ref:`ufunc docs <ufuncs.kwargs>`.\n",
      "    \n",
      "    Returns\n",
      "    -------\n",
      "    add : ndarray or scalar\n",
      "        The sum of `x1` and `x2`, element-wise.\n",
      "        This is a scalar if both `x1` and `x2` are scalars.\n",
      "    \n",
      "    Notes\n",
      "    -----\n",
      "    Equivalent to `x1` + `x2` in terms of array broadcasting.\n",
      "    \n",
      "    Examples\n",
      "    --------\n",
      "    >>> np.add(1.0, 4.0)\n",
      "    5.0\n",
      "    >>> x1 = np.arange(9.0).reshape((3, 3))\n",
      "    >>> x2 = np.arange(3.0)\n",
      "    >>> np.add(x1, x2)\n",
      "    array([[  0.,   2.,   4.],\n",
      "           [  3.,   5.,   7.],\n",
      "           [  6.,   8.,  10.]])\n",
      "    \n",
      "    The ``+`` operator can be used as a shorthand for ``np.add`` on ndarrays.\n",
      "    \n",
      "    >>> x1 = np.arange(9.0).reshape((3, 3))\n",
      "    >>> x2 = np.arange(3.0)\n",
      "    >>> x1 + x2\n",
      "    array([[ 0.,  2.,  4.],\n",
      "           [ 3.,  5.,  7.],\n",
      "           [ 6.,  8., 10.]])\n",
      "\n"
     ]
    }
   ],
   "source": [
    "help(np.add)"
   ]
  },
  {
   "cell_type": "markdown",
   "id": "2334d298",
   "metadata": {},
   "source": [
    "#### 4.  Create a numpy array of size 10 filled with zeros but the fifth value is 1 "
   ]
  },
  {
   "cell_type": "code",
   "execution_count": 5,
   "id": "e5c518bb",
   "metadata": {},
   "outputs": [
    {
     "name": "stdout",
     "output_type": "stream",
     "text": [
      "[0. 0. 0. 0. 1. 0. 0. 0. 0. 0.]\n"
     ]
    }
   ],
   "source": [
    "z = np.zeros(10)\n",
    "z[4] = 1\n",
    "print(z)"
   ]
  },
  {
   "cell_type": "markdown",
   "id": "2426e9e7",
   "metadata": {},
   "source": [
    "#### 5.  Create a numpy array with values ranging from 10 to 49"
   ]
  },
  {
   "cell_type": "code",
   "execution_count": 6,
   "id": "002fb763",
   "metadata": {},
   "outputs": [
    {
     "data": {
      "text/plain": [
       "array([10, 11, 12, 13, 14, 15, 16, 17, 18, 19, 20, 21, 22, 23, 24, 25, 26,\n",
       "       27, 28, 29, 30, 31, 32, 33, 34, 35, 36, 37, 38, 39, 40, 41, 42, 43,\n",
       "       44, 45, 46, 47, 48, 49])"
      ]
     },
     "execution_count": 6,
     "metadata": {},
     "output_type": "execute_result"
    }
   ],
   "source": [
    "np.arange(10,50)"
   ]
  },
  {
   "cell_type": "markdown",
   "id": "c8480bac",
   "metadata": {},
   "source": [
    "#### 6.  Reverse the numpy array ranging from 0 to 50. "
   ]
  },
  {
   "cell_type": "code",
   "execution_count": 7,
   "id": "32061b5c",
   "metadata": {},
   "outputs": [
    {
     "data": {
      "text/plain": [
       "array([50, 49, 48, 47, 46, 45, 44, 43, 42, 41, 40, 39, 38, 37, 36, 35, 34,\n",
       "       33, 32, 31, 30, 29, 28, 27, 26, 25, 24, 23, 22, 21, 20, 19, 18, 17,\n",
       "       16, 15, 14, 13, 12, 11, 10,  9,  8,  7,  6,  5,  4,  3,  2,  1,  0])"
      ]
     },
     "execution_count": 7,
     "metadata": {},
     "output_type": "execute_result"
    }
   ],
   "source": [
    "np.arange(51)[::-1]"
   ]
  },
  {
   "cell_type": "markdown",
   "id": "fde2d2f8",
   "metadata": {},
   "source": [
    "#### 7.  Create a 3x3 matrix with values ranging from 0 to 8 "
   ]
  },
  {
   "cell_type": "code",
   "execution_count": 8,
   "id": "a33b9e7d",
   "metadata": {},
   "outputs": [
    {
     "data": {
      "text/plain": [
       "array([[0, 1, 2],\n",
       "       [3, 4, 5],\n",
       "       [6, 7, 8]])"
      ]
     },
     "execution_count": 8,
     "metadata": {},
     "output_type": "execute_result"
    }
   ],
   "source": [
    "a = np.arange(9)\n",
    "a.shape = (3,3)\n",
    "a"
   ]
  },
  {
   "cell_type": "markdown",
   "id": "cf070c9f",
   "metadata": {},
   "source": [
    "#### 8. Find indices of non-zero elements from \\[1,2,0,0,4,0\\]"
   ]
  },
  {
   "cell_type": "code",
   "execution_count": 9,
   "id": "1fe92259",
   "metadata": {},
   "outputs": [
    {
     "data": {
      "text/plain": [
       "(array([0, 1, 4]),)"
      ]
     },
     "execution_count": 9,
     "metadata": {},
     "output_type": "execute_result"
    }
   ],
   "source": [
    "a = np.array([1,2,0,0,4,0])\n",
    "res = np.where(a!=0)\n",
    "res"
   ]
  },
  {
   "cell_type": "markdown",
   "id": "4187e0af",
   "metadata": {},
   "source": [
    "#### 9. Create a 3x3x3 array with random integers from 1 to 20"
   ]
  },
  {
   "cell_type": "code",
   "execution_count": 10,
   "id": "a8d57d4c",
   "metadata": {},
   "outputs": [
    {
     "data": {
      "text/plain": [
       "array([[[15, 11, 12],\n",
       "        [12, 16, 15],\n",
       "        [13, 17, 14]],\n",
       "\n",
       "       [[18, 10, 14],\n",
       "        [14, 16,  2],\n",
       "        [14, 17,  8]],\n",
       "\n",
       "       [[ 8,  6,  6],\n",
       "        [ 5,  2,  5],\n",
       "        [15, 13,  6]]])"
      ]
     },
     "execution_count": 10,
     "metadata": {},
     "output_type": "execute_result"
    }
   ],
   "source": [
    "np.random.randint(1, 20, (3,3,3))"
   ]
  },
  {
   "cell_type": "markdown",
   "id": "be42201d",
   "metadata": {},
   "source": [
    "#### 10. Create a 10x10 array with random values and find the minimum and maximum values "
   ]
  },
  {
   "cell_type": "code",
   "execution_count": 11,
   "id": "45b7a475",
   "metadata": {},
   "outputs": [
    {
     "name": "stdout",
     "output_type": "stream",
     "text": [
      "0.006046516341544739 0.986960430337516\n"
     ]
    }
   ],
   "source": [
    "r = np.random.random((10,10))\n",
    "rmin, rmax = r.min(), r.max()\n",
    "print(rmin, rmax)"
   ]
  },
  {
   "cell_type": "markdown",
   "id": "2ad091b0",
   "metadata": {},
   "source": [
    "#### 11. Create a random vector of size 30 and find the mean value "
   ]
  },
  {
   "cell_type": "code",
   "execution_count": 12,
   "id": "27b07583",
   "metadata": {},
   "outputs": [
    {
     "name": "stdout",
     "output_type": "stream",
     "text": [
      "0.4357770636283878\n"
     ]
    }
   ],
   "source": [
    "m = np.random.random(30)\n",
    "print(m.mean())"
   ]
  },
  {
   "cell_type": "markdown",
   "id": "badab903",
   "metadata": {},
   "source": [
    "#### 12. Given a 1D array ranging from 0 to 10, print all the elements which are between 3 and 8. "
   ]
  },
  {
   "cell_type": "code",
   "execution_count": 13,
   "id": "7b7d844c",
   "metadata": {},
   "outputs": [
    {
     "name": "stdout",
     "output_type": "stream",
     "text": [
      "original array [ 0  1  2  3  4  5  6  7  8  9 10]\n",
      "modified array [3 4 5 6 7 8]\n"
     ]
    }
   ],
   "source": [
    "arr = np.arange(0, 11)  \n",
    "print('original array',arr)\n",
    "res = np.where((arr >= 3) & (arr <= 8))\n",
    "new_arr = arr[res]\n",
    "print('modified array',new_arr)"
   ]
  },
  {
   "cell_type": "markdown",
   "id": "45bf6543",
   "metadata": {},
   "source": [
    "#### 13. Given a 1D array of 20 random integers from 0 to 10, multiply the values that are less than 5 by 2 and print the resulting array."
   ]
  },
  {
   "cell_type": "code",
   "execution_count": 14,
   "id": "a8853db3",
   "metadata": {},
   "outputs": [
    {
     "name": "stdout",
     "output_type": "stream",
     "text": [
      "original array [3 2 8 2 8 9 9 4 7 6 5 3 8 2 5 9 3 6 2 7]\n",
      "modified array [6 4 8 4 8 9 9 8 7 6 5 6 8 4 5 9 6 6 4 7]\n"
     ]
    }
   ],
   "source": [
    "b = np.random.randint(1, 10, 20)\n",
    "print('original array',b)\n",
    "inds = np.where(b < 5)\n",
    "type(inds)\n",
    "for ind in inds:\n",
    "    b[ind] = b[ind] * 2\n",
    "print('modified array', b)"
   ]
  },
  {
   "cell_type": "markdown",
   "id": "3671663f",
   "metadata": {},
   "source": [
    "#### 14. Given the 1D array [1, 5, 6, 2, -2, 23, 45], find the indices of the array elements that are divisible by 2."
   ]
  },
  {
   "cell_type": "code",
   "execution_count": 15,
   "id": "b4568bbe",
   "metadata": {},
   "outputs": [
    {
     "data": {
      "text/plain": [
       "array([2, 3, 4])"
      ]
     },
     "execution_count": 15,
     "metadata": {},
     "output_type": "execute_result"
    }
   ],
   "source": [
    "c = np.array([1, 5, 6, 2, -2, 23, 45])\n",
    "res_c = np.where(c % 2 == 0)\n",
    "res_c[0]"
   ]
  },
  {
   "cell_type": "markdown",
   "id": "ddeb730b",
   "metadata": {},
   "source": [
    "#### 15. Given a 1D array ranging from 0 to 20, print all the elements which are divisible by 3. "
   ]
  },
  {
   "cell_type": "code",
   "execution_count": 16,
   "id": "316c500c",
   "metadata": {},
   "outputs": [
    {
     "name": "stdout",
     "output_type": "stream",
     "text": [
      "[ 0  1  2  3  4  5  6  7  8  9 10 11 12 13 14 15 16 17 18 19 20]\n"
     ]
    },
    {
     "data": {
      "text/plain": [
       "array([ 0,  3,  6,  9, 12, 15, 18])"
      ]
     },
     "execution_count": 16,
     "metadata": {},
     "output_type": "execute_result"
    }
   ],
   "source": [
    "d = np.arange(0,21)\n",
    "print(d)\n",
    "d[np.where(d % 3 == 0)]"
   ]
  },
  {
   "cell_type": "markdown",
   "id": "17566b41",
   "metadata": {},
   "source": [
    "#### 16. Create a 5x5 numpy array with each row values ranging from 0 to 4 "
   ]
  },
  {
   "cell_type": "code",
   "execution_count": 17,
   "id": "98d6ab81",
   "metadata": {},
   "outputs": [
    {
     "data": {
      "text/plain": [
       "array([[0, 1, 2, 3, 4],\n",
       "       [0, 1, 2, 3, 4],\n",
       "       [0, 1, 2, 3, 4],\n",
       "       [0, 1, 2, 3, 4],\n",
       "       [0, 1, 2, 3, 4]])"
      ]
     },
     "execution_count": 17,
     "metadata": {},
     "output_type": "execute_result"
    }
   ],
   "source": [
    "e = np.arange(0,5)\n",
    "np.tile(e,5).reshape(5,5)"
   ]
  },
  {
   "cell_type": "markdown",
   "id": "bdfc8dda",
   "metadata": {},
   "source": [
    "#### 17. Create a 3x5 numpy array filled with random numbers from 1 to 10."
   ]
  },
  {
   "cell_type": "code",
   "execution_count": 18,
   "id": "3e88d542",
   "metadata": {},
   "outputs": [
    {
     "data": {
      "text/plain": [
       "array([[8, 5, 8, 5, 3],\n",
       "       [5, 5, 4, 3, 1],\n",
       "       [8, 3, 5, 9, 8]])"
      ]
     },
     "execution_count": 18,
     "metadata": {},
     "output_type": "execute_result"
    }
   ],
   "source": [
    "np.random.randint(1,10, (3,5))"
   ]
  },
  {
   "cell_type": "markdown",
   "id": "f89b43a8",
   "metadata": {},
   "source": [
    "#### 18. Create a numpy array of size 10 filled with 0s and replace its 5th value with a 3."
   ]
  },
  {
   "cell_type": "code",
   "execution_count": 19,
   "id": "b2811239",
   "metadata": {},
   "outputs": [
    {
     "name": "stdout",
     "output_type": "stream",
     "text": [
      "[0. 0. 0. 0. 3. 0. 0. 0. 0. 0.]\n"
     ]
    }
   ],
   "source": [
    "g = np.zeros(10)\n",
    "g[4] = 3\n",
    "print(g)"
   ]
  },
  {
   "cell_type": "markdown",
   "id": "58299ddf",
   "metadata": {},
   "source": [
    "#### 19. Create a numpy array filled with numbers from 3 to 15 i.e. ([3, 4 … 13, 14])"
   ]
  },
  {
   "cell_type": "code",
   "execution_count": 20,
   "id": "d59442d5",
   "metadata": {},
   "outputs": [
    {
     "data": {
      "text/plain": [
       "array([ 3,  4,  5,  6,  7,  8,  9, 10, 11, 12, 13, 14])"
      ]
     },
     "execution_count": 20,
     "metadata": {},
     "output_type": "execute_result"
    }
   ],
   "source": [
    "np.arange(3,15)"
   ]
  },
  {
   "cell_type": "markdown",
   "id": "c97baeaa",
   "metadata": {},
   "source": [
    "#### 20. Write a function which gets a numpy array as an input and divides all of the array values by 2 over and over again, until the mean of the array numbers is <=5. Then, once the mean of the array numbers is <=5, the funtion returns the modified numpy array. "
   ]
  },
  {
   "cell_type": "code",
   "execution_count": 21,
   "id": "5ffcd77e",
   "metadata": {},
   "outputs": [],
   "source": [
    "def div_by_two(arr):\n",
    "    while np.mean(arr) > 5:\n",
    "        arr = np.divide(arr,2)\n",
    "    return arr"
   ]
  },
  {
   "cell_type": "code",
   "execution_count": 22,
   "id": "a6083fb4",
   "metadata": {},
   "outputs": [
    {
     "data": {
      "text/plain": [
       "array([2.5 , 3.5 , 5.  , 2.75, 2.25])"
      ]
     },
     "execution_count": 22,
     "metadata": {},
     "output_type": "execute_result"
    }
   ],
   "source": [
    "div_by_two(np.array([10,14,20,11,9]))"
   ]
  },
  {
   "cell_type": "markdown",
   "id": "b97e0265",
   "metadata": {},
   "source": [
    "#### 21. Write a function which gets a 5x4 numpy array filled with random numbers from 1 to 10 as an inputand returns 4 different numpy arrays which are the columns of the original numpy array. Write another similar function which returns 5 different numpy arrays which are rows of the original numpy array. "
   ]
  },
  {
   "cell_type": "code",
   "execution_count": 23,
   "id": "d22d3643",
   "metadata": {},
   "outputs": [],
   "source": [
    "def get_cols(arr):\n",
    "    c0 = arr[:,0]\n",
    "    c1 = arr[:,1]\n",
    "    c2 = arr[:,2]\n",
    "    c3 = arr[:,3]\n",
    "    return c0, c1, c2, c3 \n",
    "\n",
    "def get_rows(arr):\n",
    "    r0 = arr[0]\n",
    "    r1 = arr[1]\n",
    "    r2 = arr[2]\n",
    "    r3 = arr[3]\n",
    "    r4 = arr[4]\n",
    "    return r0, r1, r2, r3, r4"
   ]
  },
  {
   "cell_type": "code",
   "execution_count": 26,
   "id": "201648cf",
   "metadata": {},
   "outputs": [
    {
     "name": "stdout",
     "output_type": "stream",
     "text": [
      "original matrix: [0. 0. 0. 0. 1. 0. 0. 0. 0. 0.]\n",
      "extracted cols:  (array([8, 4, 5, 4, 9]), array([4, 2, 4, 1, 9]), array([4, 8, 2, 4, 3]), array([4, 1, 1, 5, 4]))\n",
      "extracted rows:  (array([8, 4, 4, 4]), array([4, 2, 8, 1]), array([5, 4, 2, 1]), array([4, 1, 4, 5]), array([9, 9, 3, 4]))\n"
     ]
    }
   ],
   "source": [
    "m = np.random.randint(1,10,(5,4))\n",
    "print('original matrix:', z)\n",
    "print('extracted cols: ', get_cols(m))\n",
    "print('extracted rows: ', get_rows(m))"
   ]
  }
 ],
 "metadata": {
  "kernelspec": {
   "display_name": "Python 3 (ipykernel)",
   "language": "python",
   "name": "python3"
  },
  "language_info": {
   "codemirror_mode": {
    "name": "ipython",
    "version": 3
   },
   "file_extension": ".py",
   "mimetype": "text/x-python",
   "name": "python",
   "nbconvert_exporter": "python",
   "pygments_lexer": "ipython3",
   "version": "3.9.7"
  }
 },
 "nbformat": 4,
 "nbformat_minor": 5
}
