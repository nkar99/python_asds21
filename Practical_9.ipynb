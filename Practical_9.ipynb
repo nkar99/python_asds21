{
 "cells": [
  {
   "cell_type": "markdown",
   "id": "c29a6fd8",
   "metadata": {},
   "source": [
    "# Problem 1"
   ]
  },
  {
   "cell_type": "code",
   "execution_count": 13,
   "id": "7b101c7c",
   "metadata": {},
   "outputs": [],
   "source": [
    "class Circle:\n",
    "    def __init__(self, radius, color):\n",
    "        self.radius = radius\n",
    "        self.color = color\n",
    "        \n",
    "    def getDesc(self):\n",
    "        print('A ' + str(self.color) + ' circle with radius ' + str(self.radius))"
   ]
  },
  {
   "cell_type": "code",
   "execution_count": 14,
   "id": "2c1bdda4",
   "metadata": {},
   "outputs": [
    {
     "name": "stdout",
     "output_type": "stream",
     "text": [
      "A red circle with radius 50\n"
     ]
    }
   ],
   "source": [
    "c = Circle(50,'red')\n",
    "c.getDesc()"
   ]
  },
  {
   "cell_type": "markdown",
   "id": "6425fc6f",
   "metadata": {},
   "source": [
    "# Problem 2"
   ]
  },
  {
   "cell_type": "code",
   "execution_count": 18,
   "id": "55fa6fef",
   "metadata": {},
   "outputs": [],
   "source": [
    "class Car:\n",
    "    def __init__(self,model,color,max_speed):\n",
    "        self.model = model\n",
    "        self.color = color\n",
    "        self.max_speed = max_speed\n",
    "    \n",
    "    def compareCar(self, car2):\n",
    "        if self.max_speed > car2.max_speed:\n",
    "            print('car1 is better than car2')\n",
    "        else:\n",
    "            print('car2 is better than car1')"
   ]
  },
  {
   "cell_type": "code",
   "execution_count": 20,
   "id": "6c5c5950",
   "metadata": {},
   "outputs": [
    {
     "name": "stdout",
     "output_type": "stream",
     "text": [
      "car1 is better than car2\n"
     ]
    }
   ],
   "source": [
    "car1 = Car('bla','white',120)\n",
    "car2 = Car('bla1','black',100)\n",
    "car1.compareCar(car2)"
   ]
  }
 ],
 "metadata": {
  "kernelspec": {
   "display_name": "Python 3 (ipykernel)",
   "language": "python",
   "name": "python3"
  },
  "language_info": {
   "codemirror_mode": {
    "name": "ipython",
    "version": 3
   },
   "file_extension": ".py",
   "mimetype": "text/x-python",
   "name": "python",
   "nbconvert_exporter": "python",
   "pygments_lexer": "ipython3",
   "version": "3.9.5"
  }
 },
 "nbformat": 4,
 "nbformat_minor": 5
}
