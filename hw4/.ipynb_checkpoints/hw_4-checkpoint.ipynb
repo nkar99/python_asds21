{
 "cells": [
  {
   "cell_type": "markdown",
   "id": "9065e052",
   "metadata": {},
   "source": [
    "# Problem 1"
   ]
  },
  {
   "cell_type": "code",
   "execution_count": 5,
   "id": "bbc2e2b5",
   "metadata": {},
   "outputs": [],
   "source": [
    "d = {'name':'Armen', 'age':15, 'grades':[10,8,8,4,6,7]}"
   ]
  },
  {
   "cell_type": "code",
   "execution_count": 6,
   "id": "2e14fd27",
   "metadata": {},
   "outputs": [
    {
     "name": "stdout",
     "output_type": "stream",
     "text": [
      "Please input a number: 66\n"
     ]
    }
   ],
   "source": [
    "if 'weight' not in d.keys():\n",
    "    n = int(input('Please input a number: '))\n",
    "    d['weight'] = n\n",
    "else:\n",
    "    print(d['weight'])"
   ]
  },
  {
   "cell_type": "markdown",
   "id": "69c29e9a",
   "metadata": {},
   "source": [
    "# Problem 2"
   ]
  },
  {
   "cell_type": "code",
   "execution_count": 25,
   "id": "bdbe0238",
   "metadata": {},
   "outputs": [
    {
     "name": "stdout",
     "output_type": "stream",
     "text": [
      "dictionary Market before any changes: {'dairy': ['yogurt', 'cheese'], 'fruits': ['banana', 'apple', 'orange', 'lemon', 'apple', 'banana', 'banana']}\n",
      "dictionary Market after the changes: {'dairy': ['yogurt', 'cheese'], 'fruits': ['apple', 'banana', 'lemon', 'orange'], 'candies': ['mars', 'kinder', 'twix']}\n"
     ]
    }
   ],
   "source": [
    "market = {'dairy': ['yogurt','cheese'], \n",
    "          'fruits': ['banana', 'apple', 'orange', \n",
    "                    'lemon', 'apple', 'banana','banana']}\n",
    "print('dictionary Market before any changes:', market)\n",
    "\n",
    "market['candies'] = ['mars','kinder','twix']\n",
    "market['fruits'] = sorted(set(market['fruits']))\n",
    "\n",
    "print('dictionary Market after the changes:', market)"
   ]
  },
  {
   "cell_type": "markdown",
   "id": "8fb4662b",
   "metadata": {},
   "source": [
    "# Problem 3"
   ]
  },
  {
   "cell_type": "code",
   "execution_count": 28,
   "id": "10211927",
   "metadata": {},
   "outputs": [
    {
     "name": "stdout",
     "output_type": "stream",
     "text": [
      "t1 after deleting an item from it: (2, 'cat', -2, 'Anna')\n"
     ]
    }
   ],
   "source": [
    "t1 = (2,'cat','a',-2,'Anna')\n",
    "t1 = t1[:2] + t1[3:]\n",
    "print('t1 after deleting an item from it:', t1)"
   ]
  },
  {
   "cell_type": "code",
   "execution_count": 30,
   "id": "c1af10fb",
   "metadata": {},
   "outputs": [
    {
     "name": "stdout",
     "output_type": "stream",
     "text": [
      "1\n"
     ]
    }
   ],
   "source": [
    "t2 = (1,2,3,4,5)\n",
    "t3 = (t1[:2] + t2[:3])\n",
    "print(t3[2])"
   ]
  },
  {
   "cell_type": "code",
   "execution_count": 31,
   "id": "05fea113",
   "metadata": {},
   "outputs": [
    {
     "name": "stdout",
     "output_type": "stream",
     "text": [
      "3\n"
     ]
    }
   ],
   "source": [
    "t4 = [(1,3,5),(8,9),('Anna','Bob','Alice')]\n",
    "print(t4[0][1])"
   ]
  }
 ],
 "metadata": {
  "kernelspec": {
   "display_name": "Python 3 (ipykernel)",
   "language": "python",
   "name": "python3"
  },
  "language_info": {
   "codemirror_mode": {
    "name": "ipython",
    "version": 3
   },
   "file_extension": ".py",
   "mimetype": "text/x-python",
   "name": "python",
   "nbconvert_exporter": "python",
   "pygments_lexer": "ipython3",
   "version": "3.9.5"
  }
 },
 "nbformat": 4,
 "nbformat_minor": 5
}
