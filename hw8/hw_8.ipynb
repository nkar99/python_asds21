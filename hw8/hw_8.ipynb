{
 "cells": [
  {
   "cell_type": "markdown",
   "id": "10b264e6",
   "metadata": {},
   "source": [
    "# Problem 1"
   ]
  },
  {
   "cell_type": "code",
   "execution_count": 1,
   "id": "fca7b16a",
   "metadata": {},
   "outputs": [],
   "source": [
    "class Calculation:\n",
    "    def __init__(self, x,y):\n",
    "        self.x = x\n",
    "        self.y = y\n",
    "    \n",
    "    def addition(self):\n",
    "        print(self.x + self.y)\n",
    "    \n",
    "    def subtraction(self):\n",
    "        print(self.x - self.y)"
   ]
  },
  {
   "cell_type": "code",
   "execution_count": 2,
   "id": "c1e2e20e",
   "metadata": {},
   "outputs": [],
   "source": [
    "class MyCalculation(Calculation):\n",
    "    def __init__(self,x,y):\n",
    "        self.x = x\n",
    "        self.y = y\n",
    "    \n",
    "    def multiplication(self):\n",
    "        print(self.x * self.y)\n",
    "    \n",
    "    def division(self):\n",
    "        print(self.x / self.y)"
   ]
  },
  {
   "cell_type": "code",
   "execution_count": 3,
   "id": "5f93df8f",
   "metadata": {},
   "outputs": [
    {
     "name": "stdout",
     "output_type": "stream",
     "text": [
      "8\n",
      "-2\n",
      "15\n",
      "0.6\n"
     ]
    }
   ],
   "source": [
    "myc = MyCalculation(3,5)\n",
    "myc.addition()\n",
    "myc.subtraction()\n",
    "myc.multiplication()\n",
    "myc.division()"
   ]
  },
  {
   "cell_type": "markdown",
   "id": "82941514",
   "metadata": {},
   "source": [
    "# Problem 2"
   ]
  },
  {
   "cell_type": "code",
   "execution_count": 29,
   "id": "f03fd574",
   "metadata": {},
   "outputs": [],
   "source": [
    "class My_Time:\n",
    "    def __init__(self,t):\n",
    "        self.t = t\n",
    "        \n",
    "    def printTime(self):\n",
    "        print('The current time is ' + self.t)"
   ]
  },
  {
   "cell_type": "code",
   "execution_count": 30,
   "id": "037a29bf",
   "metadata": {},
   "outputs": [],
   "source": [
    "class My_Date:\n",
    "    def __init__(self,d):\n",
    "        self.d = d\n",
    "    \n",
    "    def printDate(self):\n",
    "        print('The current date is ' + self.d)"
   ]
  },
  {
   "cell_type": "code",
   "execution_count": 33,
   "id": "3c445628",
   "metadata": {},
   "outputs": [],
   "source": [
    "class Date_Time(My_Time, My_Date):\n",
    "    def __init__(self, d, t):\n",
    "        My_Date.__init__(self,d)\n",
    "        My_Time.__init__(self,t)"
   ]
  },
  {
   "cell_type": "code",
   "execution_count": null,
   "id": "94b8eba7",
   "metadata": {},
   "outputs": [],
   "source": [
    "class Color:\n",
    "    def __init__(self, name):\n",
    "        self.name = name\n",
    "    def printc(self):\n",
    "        print(self.name, \"is a nice color.\")\n",
    "                \n",
    "class Fruit:\n",
    "    def __init__(self, name):\n",
    "        self.fruitname = name\n",
    "    def printf(self):\n",
    "        print(self.fruitname, \"is a tasty fruit.\")\n",
    "        \n",
    "class Orange(Color,Fruit):\n",
    "    def __init__(self, color, name):\n",
    "        Color.__init__(self,color)\n",
    "        Fruit.__init__(self,name)"
   ]
  },
  {
   "cell_type": "code",
   "execution_count": 34,
   "id": "52dc870e",
   "metadata": {},
   "outputs": [
    {
     "name": "stdout",
     "output_type": "stream",
     "text": [
      "The current time is 13.03.2013\n",
      "The current date is 12 PM\n"
     ]
    }
   ],
   "source": [
    "dt = Date_Time('12 PM','13.03.2013')\n",
    "dt.printTime()\n",
    "dt.printDate()"
   ]
  },
  {
   "cell_type": "code",
   "execution_count": null,
   "id": "67f9f219",
   "metadata": {},
   "outputs": [],
   "source": []
  }
 ],
 "metadata": {
  "kernelspec": {
   "display_name": "Python 3 (ipykernel)",
   "language": "python",
   "name": "python3"
  },
  "language_info": {
   "codemirror_mode": {
    "name": "ipython",
    "version": 3
   },
   "file_extension": ".py",
   "mimetype": "text/x-python",
   "name": "python",
   "nbconvert_exporter": "python",
   "pygments_lexer": "ipython3",
   "version": "3.9.5"
  }
 },
 "nbformat": 4,
 "nbformat_minor": 5
}
